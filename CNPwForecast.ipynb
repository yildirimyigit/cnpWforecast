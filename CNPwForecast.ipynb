{
 "cells": [
  {
   "cell_type": "code",
   "execution_count": 1,
   "id": "4b321f48",
   "metadata": {},
   "outputs": [],
   "source": [
    "import torch\n",
    "import torch.nn as nn\n",
    "import torch.nn.functional as F\n",
    "import torch.distributions as D\n",
    "import torch.optim as optim\n",
    "import numpy as np"
   ]
  },
  {
   "cell_type": "code",
   "execution_count": 2,
   "id": "6a14d024",
   "metadata": {},
   "outputs": [
    {
     "name": "stdout",
     "output_type": "stream",
     "text": [
      "cuda\n"
     ]
    }
   ],
   "source": [
    "if torch.cuda.is_available():\n",
    "    device = torch.device(\"cuda:0\")\n",
    "else:\n",
    "    device = torch.device(\"cpu\")\n",
    "\n",
    "print(device.type)\n",
    "\n",
    "# ---\n",
    "\n",
    "torch.manual_seed(42)\n",
    "np.random.seed(42)"
   ]
  },
  {
   "cell_type": "code",
   "execution_count": null,
   "id": "0edf4bee",
   "metadata": {},
   "outputs": [],
   "source": [
    "class CNP(nn.Module):\n",
    "    def __init__(self):\n",
    "        super(CNP, self).__init__()\n",
    "        \n",
    "        self.encoder = nn.Sequential(\n",
    "            nn.Linear(4+64*4*4,1024),\n",
    "            nn.ReLU(),\n",
    "            nn.Linear(1024,1024),\n",
    "            nn.ReLU(),\n",
    "            nn.Linear(1024,1024)\n",
    "        )\n",
    "        \n",
    "        self.query = nn.Sequential(\n",
    "            nn.Linear(1024+2,1024),\n",
    "            nn.ReLU(),\n",
    "            nn.Linear(1024,1024),\n",
    "            nn.ReLU(),\n",
    "            nn.Linear(1024,1024),\n",
    "            nn.ReLU(),\n",
    "            nn.Linear(1024,2*2)\n",
    "        )\n",
    "\n",
    "    def forward(self, frames, observations, target):\n",
    "        # n < n_max frames of a scene along with momentary observations are concatenated to constitute input\n",
    "        scene_encodings = torch.flatten(self.cnn(frames))\n",
    "        scene_encodings = self.cnn(frames).view(frames.shape[0], 64*4*4)\n",
    "        encoder_in = torch.cat((observations, scene_encodings), 1)\n",
    "        r = self.encoder(encoder_in)\n",
    "        \n",
    "        r_avg = torch.mean(r, dim=0)\n",
    "        r_avgs = r_avg.repeat(target.shape[0], 1)  # repeating the same r_avg for each target\n",
    "        r_avg_target = torch.cat((r_avgs, target), 1)\n",
    "        query_out = self.query(r_avg_target)\n",
    "        \n",
    "        return query_out\n",
    "\n",
    "    \n",
    "def log_prob_loss(output, target):\n",
    "    mean, sigma = output.chunk(2, dim = -1)\n",
    "    sigma = F.softplus(sigma)\n",
    "    dist = D.Independent(D.Normal(loc=mean, scale=sigma), 1)\n",
    "    return -torch.mean(dist.log_prob(target))"
   ]
  }
 ],
 "metadata": {
  "kernelspec": {
   "display_name": "Python 3 (ipykernel)",
   "language": "python",
   "name": "python3"
  },
  "language_info": {
   "codemirror_mode": {
    "name": "ipython",
    "version": 3
   },
   "file_extension": ".py",
   "mimetype": "text/x-python",
   "name": "python",
   "nbconvert_exporter": "python",
   "pygments_lexer": "ipython3",
   "version": "3.8.10"
  }
 },
 "nbformat": 4,
 "nbformat_minor": 5
}
